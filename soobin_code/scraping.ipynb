{
 "cells": [
  {
   "cell_type": "markdown",
   "metadata": {},
   "source": [
    "## Importing Dependencies"
   ]
  },
  {
   "cell_type": "code",
   "execution_count": 1,
   "metadata": {},
   "outputs": [],
   "source": [
    "from bs4 import BeautifulSoup as bs\n",
    "from splinter import Browser\n",
    "import requests\n",
    "import time\n",
    "import pandas as pd"
   ]
  },
  {
   "cell_type": "markdown",
   "metadata": {},
   "source": [
    "## Setting Up Splinter"
   ]
  },
  {
   "cell_type": "code",
   "execution_count": 2,
   "metadata": {},
   "outputs": [
    {
     "name": "stdout",
     "output_type": "stream",
     "text": [
      "/usr/local/bin/chromedriver\r\n"
     ]
    }
   ],
   "source": [
    "# For macOS users\n",
    "!which chromedriver"
   ]
  },
  {
   "cell_type": "code",
   "execution_count": 3,
   "metadata": {},
   "outputs": [],
   "source": [
    "executable_path = {'executable_path': '/usr/local/bin/chromedriver'}\n",
    "browser = Browser('chrome', **executable_path, headless = False)"
   ]
  },
  {
   "cell_type": "code",
   "execution_count": 4,
   "metadata": {},
   "outputs": [],
   "source": [
    "# For Windows users\n",
    "# executable_path = {'executable_path': 'chromedriver.exe'}\n",
    "# browser = Browser('chrome', **executable_path, headless = False)"
   ]
  },
  {
   "cell_type": "markdown",
   "metadata": {},
   "source": [
    "## World Economic Forum"
   ]
  },
  {
   "cell_type": "code",
   "execution_count": 5,
   "metadata": {},
   "outputs": [],
   "source": [
    "wef_url = 'https://www.weforum.org/search?query=digital+economics'\n",
    "browser.visit(wef_url)\n",
    "wef_html = browser.html\n",
    "wef_soup = bs(wef_html, 'html.parser')\n",
    "time.sleep(3)"
   ]
  },
  {
   "cell_type": "code",
   "execution_count": 6,
   "metadata": {},
   "outputs": [
    {
     "name": "stdout",
     "output_type": "stream",
     "text": [
      "{'link': 'https://www.weforum.org/platforms/shaping-the-future-of-digital-economy-and-new-value-creation', 'title': 'Shaping the Future of Digital Economy and New Value Creation ...', 'snippet': \"Currently, about 50% of the world's population does not currently participate in \\nthe digital economy at all – and growth in internet adoption is slowing. The G20's\\n\\xa0...\"}\n"
     ]
    }
   ],
   "source": [
    "wef_content = wef_soup.find('div', class_ = 'gs-title')\n",
    "\n",
    "wef = {}\n",
    "wef['link'] = wef_content.a['data-ctorig']\n",
    "wef['title'] = wef_content.text.strip()\n",
    "wef['snippet'] = wef_soup.find('div', class_ = 'gs-bidi-start-align gs-snippet').text.strip()\n",
    "\n",
    "print(wef)"
   ]
  },
  {
   "cell_type": "markdown",
   "metadata": {},
   "source": [
    "## McKinsey & Company"
   ]
  },
  {
   "cell_type": "code",
   "execution_count": 7,
   "metadata": {},
   "outputs": [],
   "source": [
    "mckinsey_url = 'https://www.mckinsey.com/search?q=digital%20economy'\n",
    "browser.visit(mckinsey_url)\n",
    "mckinsey_html = browser.html\n",
    "mckinsey_soup = bs(mckinsey_html, 'html.parser')\n",
    "time.sleep(3)"
   ]
  },
  {
   "cell_type": "code",
   "execution_count": 8,
   "metadata": {},
   "outputs": [
    {
     "name": "stdout",
     "output_type": "stream",
     "text": [
      "{'link': 'https://www.mckinsey.com/business-functions/mckinsey-digital/our-insights/powering-the-digital-economy', 'title': 'Powering the digital economy', 'snippet': 'The economics of energy are changing: cheaper storage is bending the electricity cost curve, giving a boost to charging stations. Utilities meanwhile are refining...  strategies and raising their digital game.'}\n"
     ]
    }
   ],
   "source": [
    "mckinsey_body = mckinsey_soup.find('div', class_ = 'search-results')\n",
    "mckinsey_content = mckinsey_body.find('div', class_ = 'text-wrapper')\n",
    "\n",
    "mckinsey = {}\n",
    "mckinsey['link'] = mckinsey_content.a['href']\n",
    "mckinsey['title'] = mckinsey_content.h3.text.strip()\n",
    "mckinsey['snippet'] = mckinsey_body.find('div', class_ = 'description').text.strip()\n",
    "\n",
    "print(mckinsey)"
   ]
  },
  {
   "cell_type": "markdown",
   "metadata": {},
   "source": [
    "## Visual Capitalist"
   ]
  },
  {
   "cell_type": "code",
   "execution_count": 9,
   "metadata": {},
   "outputs": [],
   "source": [
    "vc_url = 'https://www.visualcapitalist.com/?s=digital+transformation'\n",
    "browser.visit(vc_url)\n",
    "vc_html = browser.html\n",
    "vc_soup = bs(vc_html, 'html.parser')\n",
    "time.sleep(3)"
   ]
  },
  {
   "cell_type": "code",
   "execution_count": 10,
   "metadata": {},
   "outputs": [
    {
     "name": "stdout",
     "output_type": "stream",
     "text": [
      "{'link': 'https://www.visualcapitalist.com/how-technology-is-disrupting-the-construction-industry/', 'title': 'How Technology is Disrupting the Construction Industry', 'snippet': ''}\n"
     ]
    }
   ],
   "source": [
    "vc_content = vc_soup.find('li', class_ = 'mvp-blog-story-wrap left relative infinite-post')\n",
    "\n",
    "vc = {}\n",
    "vc['link'] = vc_content.a['href']\n",
    "vc['title'] = vc_content.h2.text.strip()\n",
    "vc['snippet'] = ''\n",
    "\n",
    "print(vc)"
   ]
  },
  {
   "cell_type": "markdown",
   "metadata": {},
   "source": [
    "## HBR"
   ]
  },
  {
   "cell_type": "code",
   "execution_count": 11,
   "metadata": {},
   "outputs": [],
   "source": [
    "hbr_url = 'https://hbr.org/search?search_type=&term=digital+economy'\n",
    "browser.visit(hbr_url)\n",
    "hbr_html = browser.html\n",
    "hbr_soup = bs(hbr_html, 'html.parser')\n",
    "time.sleep(3)"
   ]
  },
  {
   "cell_type": "code",
   "execution_count": 12,
   "metadata": {},
   "outputs": [
    {
     "name": "stdout",
     "output_type": "stream",
     "text": [
      "{'link': 'https://hbr.org/2018/12/what-big-consumer-brands-can-do-to-compete-in-a-digital-economy', 'title': 'What Big Consumer Brands Can Do to Compete in a Digital Economy', 'snippet': 'Companies like P&G need to adapt to compete with the likes of Amazon.'}\n"
     ]
    }
   ],
   "source": [
    "hbr_content = hbr_soup.find('stream-item', class_ = 'stream-item overflow-hidden')\n",
    "\n",
    "hbr = {}\n",
    "hbr_link = hbr_content.h3.a['href']\n",
    "hbr['link'] = f'https://hbr.org{hbr_link}'\n",
    "hbr['title'] = hbr_content.h3.text.strip()\n",
    "hbr['snippet'] = hbr_content.find('div', class_ = 'dek hide-for-small').text.strip()\n",
    "\n",
    "print(hbr)"
   ]
  },
  {
   "cell_type": "markdown",
   "metadata": {},
   "source": [
    "## Forbes"
   ]
  },
  {
   "cell_type": "code",
   "execution_count": 13,
   "metadata": {},
   "outputs": [],
   "source": [
    "forbes_url = 'https://www.forbes.com/search/?q=digital+economy'\n",
    "browser.visit(forbes_url)\n",
    "forbes_html = browser.html\n",
    "forbes_soup = bs(forbes_html, 'html.parser')\n",
    "time.sleep(3)"
   ]
  },
  {
   "cell_type": "code",
   "execution_count": 14,
   "metadata": {},
   "outputs": [
    {
     "name": "stdout",
     "output_type": "stream",
     "text": [
      "{'link': 'https://www.forbes.com/sites/baxiabhishek/2019/09/25/google-pay-is-evolving-into-a-platform-to-grab-a-slice-of-indias-growing-digital-economy/', 'title': \"Google Pay Is Evolving Into A Platform To Grab A Slice Of India's Growing Digital Economy\", 'snippet': ''}\n"
     ]
    }
   ],
   "source": [
    "forbes_content = forbes_soup.find('div', class_ = 'stream-item__text')\n",
    "\n",
    "forbes = {}\n",
    "forbes['link'] = forbes_content.a['href']\n",
    "forbes['title'] = forbes_content.h2.text.strip()\n",
    "forbes['snippet'] = ''\n",
    "\n",
    "print(forbes)"
   ]
  },
  {
   "cell_type": "markdown",
   "metadata": {},
   "source": [
    "## Summary"
   ]
  },
  {
   "cell_type": "code",
   "execution_count": 15,
   "metadata": {},
   "outputs": [
    {
     "name": "stdout",
     "output_type": "stream",
     "text": [
      "{'articles': [{'link': 'https://www.weforum.org/platforms/shaping-the-future-of-digital-economy-and-new-value-creation', 'title': 'Shaping the Future of Digital Economy and New Value Creation ...', 'snippet': \"Currently, about 50% of the world's population does not currently participate in \\nthe digital economy at all – and growth in internet adoption is slowing. The G20's\\n\\xa0...\"}, {'link': 'https://www.mckinsey.com/business-functions/mckinsey-digital/our-insights/powering-the-digital-economy', 'title': 'Powering the digital economy', 'snippet': 'The economics of energy are changing: cheaper storage is bending the electricity cost curve, giving a boost to charging stations. Utilities meanwhile are refining...  strategies and raising their digital game.'}, {'link': 'https://www.visualcapitalist.com/how-technology-is-disrupting-the-construction-industry/', 'title': 'How Technology is Disrupting the Construction Industry', 'snippet': ''}, {'link': 'https://hbr.org/2018/12/what-big-consumer-brands-can-do-to-compete-in-a-digital-economy', 'title': 'What Big Consumer Brands Can Do to Compete in a Digital Economy', 'snippet': 'Companies like P&G need to adapt to compete with the likes of Amazon.'}, {'link': 'https://www.forbes.com/sites/baxiabhishek/2019/09/25/google-pay-is-evolving-into-a-platform-to-grab-a-slice-of-indias-growing-digital-economy/', 'title': \"Google Pay Is Evolving Into A Platform To Grab A Slice Of India's Growing Digital Economy\", 'snippet': ''}]}\n"
     ]
    }
   ],
   "source": [
    "articles = [wef, mckinsey, vc, hbr, forbes]\n",
    "\n",
    "summary = {\n",
    "    'articles': articles\n",
    "}\n",
    "\n",
    "print(summary)"
   ]
  }
 ],
 "metadata": {
  "kernelspec": {
   "display_name": "Python 3",
   "language": "python",
   "name": "python3"
  },
  "language_info": {
   "codemirror_mode": {
    "name": "ipython",
    "version": 3
   },
   "file_extension": ".py",
   "mimetype": "text/x-python",
   "name": "python",
   "nbconvert_exporter": "python",
   "pygments_lexer": "ipython3",
   "version": "3.7.3"
  }
 },
 "nbformat": 4,
 "nbformat_minor": 2
}
